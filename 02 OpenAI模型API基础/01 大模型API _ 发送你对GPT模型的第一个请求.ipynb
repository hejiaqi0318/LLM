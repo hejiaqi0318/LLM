{
 "cells": [
  {
   "cell_type": "code",
   "execution_count": 1,
   "id": "7fb0c3b9-e6c0-41f7-b8e9-c5ee319d148f",
   "metadata": {},
   "outputs": [],
   "source": [
    "from openai import OpenAI"
   ]
  },
  {
   "cell_type": "code",
   "execution_count": 6,
   "id": "02860a3d-20a5-4538-911a-aefaeae3b8e5",
   "metadata": {},
   "outputs": [],
   "source": [
    "client = OpenAI(base_url=\"https://api.aigc369.com/v1\")"
   ]
  },
  {
   "cell_type": "code",
   "execution_count": 7,
   "id": "a4386cb2-74d1-47b3-a1be-1e3033e799d8",
   "metadata": {},
   "outputs": [
    {
     "data": {
      "text/plain": [
       "ChatCompletion(id='chatcmpl-C5TqeW1ELA87ZMaIyaW8k450qldMZ', choices=[Choice(finish_reason='stop', index=0, logprobs=None, message=ChatCompletionMessage(content='四大文明古国分别是：古埃及文明、古美索不达米亚文明、古印度河流域文明和古华夏文明。', refusal=None, role='assistant', annotations=None, audio=None, function_call=None, tool_calls=None))], created=1755422412, model='gpt-3.5-turbo-0125', object='chat.completion', service_tier=None, system_fingerprint='fp_0165350fbb', usage=CompletionUsage(completion_tokens=52, prompt_tokens=20, total_tokens=72, completion_tokens_details=None, prompt_tokens_details=None))"
      ]
     },
     "execution_count": 7,
     "metadata": {},
     "output_type": "execute_result"
    }
   ],
   "source": [
    "response = client.chat.completions.create(\n",
    "  model=\"gpt-3.5-turbo\",\n",
    "  messages=[\n",
    "    {\"role\": \"user\", \"content\": \"四大文明古国分别有哪些\"}\n",
    "  ]\n",
    ")\n",
    "response"
   ]
  },
  {
   "cell_type": "code",
   "execution_count": 8,
   "id": "63820383-70e2-4831-9645-ced71c2dc6e6",
   "metadata": {},
   "outputs": [
    {
     "data": {
      "text/plain": [
       "ChatCompletion(id='chatcmpl-C5TrAPbtkU5PXZ5e8VfqIrQi3eQ4W', choices=[Choice(finish_reason='stop', index=0, logprobs=None, message=ChatCompletionMessage(content='四大古代文明分别指的是：古埃及文明、美索不达米亚文明、印度河流域文明和华夏文明。它们都是世界文明史上具有重要影响的古代文明。', refusal=None, role='assistant', annotations=None, audio=None, function_call=None, tool_calls=None))], created=1755422444, model='gpt-3.5-turbo-0125', object='chat.completion', service_tier=None, system_fingerprint='fp_0165350fbb', usage=CompletionUsage(completion_tokens=75, prompt_tokens=81, total_tokens=156, completion_tokens_details=None, prompt_tokens_details=None))"
      ]
     },
     "execution_count": 8,
     "metadata": {},
     "output_type": "execute_result"
    }
   ],
   "source": [
    "response = client.chat.completions.create(\n",
    "  model=\"gpt-3.5-turbo\",\n",
    "  messages=[\n",
    "    {\"role\": \"system\", \"content\": \"你是一个乐于助人、语气友善的AI聊天助手\"},\n",
    "    {\"role\": \"user\", \"content\": \"你是谁\"},\n",
    "    {\"role\": \"assistant\", \"content\": \"我是ChatGPT，由OpenAI开发的一款大型语言模型。\"},\n",
    "    {\"role\": \"user\", \"content\": \"四大文明古国分别有哪些\"}\n",
    "  ]\n",
    ")\n",
    "response"
   ]
  },
  {
   "cell_type": "code",
   "execution_count": 9,
   "id": "d8bd73f0-7d7a-42ac-a28d-cc0867daf5d8",
   "metadata": {},
   "outputs": [
    {
     "name": "stdout",
     "output_type": "stream",
     "text": [
      "四大古代文明分别指的是：古埃及文明、美索不达米亚文明、印度河流域文明和华夏文明。它们都是世界文明史上具有重要影响的古代文明。\n"
     ]
    }
   ],
   "source": [
    "print(response.choices[0].message.content)"
   ]
  },
  {
   "cell_type": "code",
   "execution_count": null,
   "id": "8fc65fc1-1f5f-4f9a-a41c-a48d7f74d24a",
   "metadata": {},
   "outputs": [],
   "source": []
  }
 ],
 "metadata": {
  "kernelspec": {
   "display_name": ".venv",
   "language": "python",
   "name": "python3"
  },
  "language_info": {
   "codemirror_mode": {
    "name": "ipython",
    "version": 3
   },
   "file_extension": ".py",
   "mimetype": "text/x-python",
   "name": "python",
   "nbconvert_exporter": "python",
   "pygments_lexer": "ipython3",
   "version": "3.11.2"
  }
 },
 "nbformat": 4,
 "nbformat_minor": 5
}
