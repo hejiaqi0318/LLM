{
 "cells": [
  {
   "cell_type": "code",
   "execution_count": 1,
   "id": "deb0c18d-c603-4255-ba96-0fb78856687d",
   "metadata": {},
   "outputs": [],
   "source": [
    "from openai import OpenAI"
   ]
  },
  {
   "cell_type": "code",
   "execution_count": 2,
   "id": "5fe1064b-f3e4-4cde-a997-e891221c5981",
   "metadata": {},
   "outputs": [],
   "source": [
    "client = OpenAI()"
   ]
  },
  {
   "cell_type": "code",
   "execution_count": 3,
   "id": "567a40b1-0259-428b-aba5-64a6e57928fc",
   "metadata": {},
   "outputs": [],
   "source": [
    "def get_openai_response(client, prompt, model=\"gpt-3.5-turbo\"):\n",
    "    response = client.chat.completions.create(\n",
    "        model=model,\n",
    "        messages=[{\"role\": \"user\", \"content\": prompt}],\n",
    "    )\n",
    "    return response.choices[0].message.content"
   ]
  },
  {
   "cell_type": "code",
   "execution_count": 4,
   "id": "4c5df2df-d4c3-4b68-b586-583df7234aba",
   "metadata": {},
   "outputs": [],
   "source": [
    "translate_prompt = \"\"\"\n",
    "请你充当一家外贸公司的翻译，你的任务是对来自各国家用户的消息进行翻译。\n",
    "我会给你一段消息文本，请你首先判断消息是什么语言，比如法语。然后把消息翻译成中文。\n",
    "翻译时请尽可能保留文本原本的语气。输出内容不要有任何额外的解释或说明。\n",
    "\n",
    "输出格式为:\n",
    "```\n",
    "============\n",
    "原始消息（<文本的语言>）：\n",
    "<原始消息>\n",
    "------------\n",
    "翻译消息：\n",
    "<翻译后的文本内容>\n",
    "============\n",
    "```\n",
    "\n",
    "来自用户的消息内容会以三个#符号进行包围。\n",
    "###\n",
    "{message}\n",
    "###\n",
    "\"\"\""
   ]
  },
  {
   "cell_type": "code",
   "execution_count": 6,
   "id": "768db506-9e1b-4df9-8c9b-3ded04bf784e",
   "metadata": {},
   "outputs": [
    {
     "name": "stdin",
     "output_type": "stream",
     "text": [
      " Можете ли вы дать мне скидку? Какой объем заказа со скидкой? Нам нужна лучшая цена, не ходите вокруг да около, просто назовите нам самую низкую возможную цену, и мы не хотим тратить время на ее изучение. Вы понимаете меня?\n"
     ]
    },
    {
     "name": "stdout",
     "output_type": "stream",
     "text": [
      "============\n",
      "原始消息（俄语）：\n",
      "Можете ли вы дать мне скидку? Какой объем заказа со скидкой? Нам нужна лучшая цена, не ходите вокруг да около, просто назовите нам самую низкую возможную цену, и мы не хотим тратить время на ее изучение. Вы понимаете меня?\n",
      "------------\n",
      "翻译消息：\n",
      "您可以给我提供折扣吗？有折扣的订单数量是多少？我们需要最好的价格，不要拐弯抹角，只需告诉我们最低可能的价格，我们不想花时间去研究它。您明白我吗？\n",
      "============\n"
     ]
    }
   ],
   "source": [
    "message = input()\n",
    "print(get_openai_response(client, translate_prompt.format(message=message)))"
   ]
  },
  {
   "cell_type": "code",
   "execution_count": null,
   "id": "da678eb7-8a3c-490c-9e48-5cb2db6ebeaa",
   "metadata": {},
   "outputs": [],
   "source": []
  }
 ],
 "metadata": {
  "kernelspec": {
   "display_name": "Python 3 (ipykernel)",
   "language": "python",
   "name": "python3"
  },
  "language_info": {
   "codemirror_mode": {
    "name": "ipython",
    "version": 3
   },
   "file_extension": ".py",
   "mimetype": "text/x-python",
   "name": "python",
   "nbconvert_exporter": "python",
   "pygments_lexer": "ipython3",
   "version": "3.11.3"
  }
 },
 "nbformat": 4,
 "nbformat_minor": 5
}
